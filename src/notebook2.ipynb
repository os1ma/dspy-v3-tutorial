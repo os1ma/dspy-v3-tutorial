{
 "cells": [
  {
   "cell_type": "code",
   "execution_count": 1,
   "id": "8f2f310a",
   "metadata": {},
   "outputs": [
    {
     "data": {
      "text/plain": [
       "True"
      ]
     },
     "execution_count": 1,
     "metadata": {},
     "output_type": "execute_result"
    }
   ],
   "source": [
    "from dotenv import load_dotenv\n",
    "\n",
    "load_dotenv()"
   ]
  },
  {
   "cell_type": "code",
   "execution_count": 2,
   "id": "ca9348ad",
   "metadata": {},
   "outputs": [],
   "source": [
    "import os\n",
    "import dspy\n",
    "\n",
    "lm = dspy.LM(\"openai/gpt-4o-mini\", api_key=os.environ[\"OPENAI_API_KEY\"])\n",
    "dspy.configure(lm=lm)"
   ]
  },
  {
   "cell_type": "code",
   "execution_count": 3,
   "id": "aaddd18a",
   "metadata": {},
   "outputs": [
    {
     "name": "stdout",
     "output_type": "stream",
     "text": [
      "True\n"
     ]
    }
   ],
   "source": [
    "sentence = \"it's a charming and often affecting journey.\"  # example from the SST-2 dataset.\n",
    "\n",
    "# 1) Declare with a signature.\n",
    "classify = dspy.Predict('sentence -> sentiment: bool')\n",
    "\n",
    "# 2) Call with input argument(s). \n",
    "response = classify(sentence=sentence)\n",
    "\n",
    "# 3) Access the output.\n",
    "print(response.sentiment)"
   ]
  },
  {
   "cell_type": "code",
   "execution_count": 4,
   "id": "68cfb02a",
   "metadata": {},
   "outputs": [
    {
     "data": {
      "text/plain": [
       "['One great thing about the ColBERT retrieval model is its late interaction mechanism, which allows it to efficiently combine dense representations with traditional retrieval methods, leading to scalable and accurate retrieval performance.',\n",
       " 'One great aspect of the ColBERT retrieval model is its ability to efficiently combine contextual embeddings with quick retrieval times, allowing for high accuracy in large-scale information retrieval tasks.',\n",
       " 'One great aspect of the ColBERT retrieval model is its efficient use of late interaction over BERT embeddings, which allows it to handle large datasets while maintaining high retrieval accuracy.',\n",
       " 'One great aspect of the ColBERT retrieval model is its ability to balance speed and accuracy through late interaction mechanisms, allowing efficient retrieval while utilizing contextual embeddings for better understanding of language.',\n",
       " 'One great aspect of the ColBERT retrieval model is its ability to leverage the contextual embeddings from BERT for improved accuracy in information retrieval while maintaining efficiency through late interaction, allowing it to handle large datasets effectively.']"
      ]
     },
     "execution_count": 4,
     "metadata": {},
     "output_type": "execute_result"
    }
   ],
   "source": [
    "question = \"What's something great about the ColBERT retrieval model?\"\n",
    "\n",
    "# 1) Declare with a signature, and pass some config.\n",
    "classify = dspy.ChainOfThought('question -> answer', n=5)\n",
    "\n",
    "# 2) Call with input argument.\n",
    "response = classify(question=question)\n",
    "\n",
    "# 3) Access the outputs.\n",
    "response.completions.answer"
   ]
  },
  {
   "cell_type": "code",
   "execution_count": 5,
   "id": "ed4e1aaa",
   "metadata": {},
   "outputs": [
    {
     "name": "stdout",
     "output_type": "stream",
     "text": [
      "Prediction(\n",
      "    reasoning='The ColBERT retrieval model stands out for its ability to efficiently combine the strengths of dense representations with the effectiveness of traditional inverted indexing. One great aspect of ColBERT is its use of late interaction mechanisms, which allows it to leverage the advantages of both retrieval methods while maintaining high performance. This means it can rapidly compute relevance scores between queries and documents without needing to exhaustively compare all possible pairs, making it scalable for large datasets. Additionally, ColBERT maintains strong retrieval accuracy, improving upon previous models by providing a balance between speed and precision.',\n",
      "    answer='One great thing about the ColBERT retrieval model is its late interaction mechanism, which allows it to efficiently combine dense representations with traditional retrieval methods, leading to scalable and accurate retrieval performance.',\n",
      "    completions=Completions(...)\n",
      ") (4 completions omitted)\n"
     ]
    }
   ],
   "source": [
    "print(response)"
   ]
  },
  {
   "cell_type": "code",
   "execution_count": null,
   "id": "02a22f01",
   "metadata": {},
   "outputs": [],
   "source": []
  }
 ],
 "metadata": {
  "kernelspec": {
   "display_name": ".venv",
   "language": "python",
   "name": "python3"
  },
  "language_info": {
   "codemirror_mode": {
    "name": "ipython",
    "version": 3
   },
   "file_extension": ".py",
   "mimetype": "text/x-python",
   "name": "python",
   "nbconvert_exporter": "python",
   "pygments_lexer": "ipython3",
   "version": "3.11.2"
  }
 },
 "nbformat": 4,
 "nbformat_minor": 5
}
