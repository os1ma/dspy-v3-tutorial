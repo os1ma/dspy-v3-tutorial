{
 "cells": [
  {
   "cell_type": "code",
   "execution_count": 1,
   "id": "36e67b16",
   "metadata": {},
   "outputs": [
    {
     "data": {
      "text/plain": [
       "True"
      ]
     },
     "execution_count": 1,
     "metadata": {},
     "output_type": "execute_result"
    }
   ],
   "source": [
    "from dotenv import load_dotenv\n",
    "\n",
    "load_dotenv()"
   ]
  },
  {
   "cell_type": "code",
   "execution_count": 2,
   "id": "e022a7b0",
   "metadata": {},
   "outputs": [],
   "source": [
    "import os\n",
    "import dspy\n",
    "\n",
    "lm = dspy.LM(\"openai/gpt-4o-mini\", api_key=os.environ[\"OPENAI_API_KEY\"])\n",
    "dspy.configure(lm=lm)"
   ]
  },
  {
   "cell_type": "code",
   "execution_count": 3,
   "id": "b4275546",
   "metadata": {},
   "outputs": [
    {
     "data": {
      "text/plain": [
       "Prediction(\n",
       "    reasoning='When two dice are tossed, each die has 6 faces, resulting in a total of 6 * 6 = 36 possible outcomes. The only way to achieve a sum of 2 is if both dice show a 1 (i.e., (1,1)). There is only 1 favorable outcome for this event. Therefore, the probability of the sum equaling 2 is the number of favorable outcomes divided by the total number of outcomes, which is 1/36.',\n",
       "    answer=0.027777777777777776\n",
       ")"
      ]
     },
     "execution_count": 3,
     "metadata": {},
     "output_type": "execute_result"
    }
   ],
   "source": [
    "math = dspy.ChainOfThought(\"question -> answer: float\")\n",
    "math(question=\"Two dice are tossed. What is the probability that the sum equals two?\")"
   ]
  },
  {
   "cell_type": "code",
   "execution_count": 4,
   "id": "9e2a51cc",
   "metadata": {},
   "outputs": [
    {
     "name": "stderr",
     "output_type": "stream",
     "text": [
      "/workspaces/workspace/.venv/lib/python3.11/site-packages/tqdm/auto.py:21: TqdmWarning: IProgress not found. Please update jupyter and ipywidgets. See https://ipywidgets.readthedocs.io/en/stable/user_install.html\n",
      "  from .autonotebook import tqdm as notebook_tqdm\n",
      "`trust_remote_code` is not supported anymore.\n",
      "Please check that the Hugging Face dataset 'hotpot_qa' isn't based on a loading script and remove `trust_remote_code`.\n",
      "If the dataset is based on a loading script, please ask the dataset author to remove it and convert it to a standard format like Parquet.\n",
      "Generating train split: 100%|██████████| 90447/90447 [00:03<00:00, 24418.55 examples/s]\n",
      "Generating validation split: 100%|██████████| 7405/7405 [00:00<00:00, 26771.52 examples/s]\n",
      "Generating test split: 100%|██████████| 7405/7405 [00:00<00:00, 25039.82 examples/s]\n",
      "`trust_remote_code` is not supported anymore.\n",
      "Please check that the Hugging Face dataset 'hotpot_qa' isn't based on a loading script and remove `trust_remote_code`.\n",
      "If the dataset is based on a loading script, please ask the dataset author to remove it and convert it to a standard format like Parquet.\n",
      "2025/08/25 03:16:44 INFO dspy.teleprompt.mipro_optimizer_v2: \n",
      "RUNNING WITH THE FOLLOWING LIGHT AUTO RUN SETTINGS:\n",
      "num_trials: 20\n",
      "minibatch: True\n",
      "num_fewshot_candidates: 6\n",
      "num_instruct_candidates: 3\n",
      "valset size: 100\n",
      "\n",
      "2025/08/25 03:16:44 INFO dspy.teleprompt.mipro_optimizer_v2: \n",
      "==> STEP 1: BOOTSTRAP FEWSHOT EXAMPLES <==\n",
      "2025/08/25 03:16:44 INFO dspy.teleprompt.mipro_optimizer_v2: These will be used as few-shot example candidates for our program and for creating instructions.\n",
      "\n",
      "2025/08/25 03:16:44 INFO dspy.teleprompt.mipro_optimizer_v2: Bootstrapping N=6 sets of demonstrations...\n"
     ]
    },
    {
     "name": "stdout",
     "output_type": "stream",
     "text": [
      "Bootstrapping set 1/6\n",
      "Bootstrapping set 2/6\n",
      "Bootstrapping set 3/6\n"
     ]
    },
    {
     "name": "stderr",
     "output_type": "stream",
     "text": [
      " 18%|█▊        | 18/100 [02:46<12:37,  9.24s/it]\n"
     ]
    },
    {
     "name": "stdout",
     "output_type": "stream",
     "text": [
      "Bootstrapped 4 full traces after 18 examples for up to 1 rounds, amounting to 18 attempts.\n",
      "Bootstrapping set 4/6\n"
     ]
    },
    {
     "name": "stderr",
     "output_type": "stream",
     "text": [
      "  5%|▌         | 5/100 [01:09<22:08, 13.99s/it]\n"
     ]
    },
    {
     "name": "stdout",
     "output_type": "stream",
     "text": [
      "Bootstrapped 3 full traces after 5 examples for up to 1 rounds, amounting to 5 attempts.\n",
      "Bootstrapping set 5/6\n"
     ]
    },
    {
     "name": "stderr",
     "output_type": "stream",
     "text": [
      "  5%|▌         | 5/100 [00:30<09:37,  6.08s/it]\n"
     ]
    },
    {
     "name": "stdout",
     "output_type": "stream",
     "text": [
      "Bootstrapped 1 full traces after 5 examples for up to 1 rounds, amounting to 5 attempts.\n",
      "Bootstrapping set 6/6\n"
     ]
    },
    {
     "name": "stderr",
     "output_type": "stream",
     "text": [
      "  2%|▏         | 2/100 [00:20<16:49, 10.30s/it]\n",
      "2025/08/25 03:21:32 INFO dspy.teleprompt.mipro_optimizer_v2: \n",
      "==> STEP 2: PROPOSE INSTRUCTION CANDIDATES <==\n",
      "2025/08/25 03:21:32 INFO dspy.teleprompt.mipro_optimizer_v2: We will use the few-shot examples from the previous step, a generated dataset summary, a summary of the program code, and a randomly selected prompting tip to propose instructions.\n"
     ]
    },
    {
     "name": "stdout",
     "output_type": "stream",
     "text": [
      "Bootstrapped 1 full traces after 2 examples for up to 1 rounds, amounting to 2 attempts.\n"
     ]
    },
    {
     "name": "stderr",
     "output_type": "stream",
     "text": [
      "2025/08/25 03:22:08 INFO dspy.teleprompt.mipro_optimizer_v2: \n",
      "Proposing N=3 instructions...\n",
      "\n",
      "2025/08/25 03:23:01 INFO dspy.teleprompt.mipro_optimizer_v2: Proposed Instructions for Predictor 0:\n",
      "\n",
      "2025/08/25 03:23:01 INFO dspy.teleprompt.mipro_optimizer_v2: 0: Given the fields `question`, produce the fields `answer`.\n",
      "\n",
      "You are an Agent. In each episode, you will be given the fields `question` as input. And you can see your past trajectory so far.\n",
      "Your goal is to use one or more of the supplied tools to collect any necessary information for producing `answer`.\n",
      "\n",
      "To do this, you will interleave next_thought, next_tool_name, and next_tool_args in each turn, and also when finishing the task.\n",
      "After each tool call, you receive a resulting observation, which gets appended to your trajectory.\n",
      "\n",
      "When writing next_thought, you may reason about the current situation and plan for future steps.\n",
      "When selecting the next_tool_name and its next_tool_args, the tool must be one of:\n",
      "\n",
      "(1) search_wikipedia. It takes arguments {'query': {'type': 'string'}}.\n",
      "(2) finish, whose description is <desc>Marks the task as complete. That is, signals that all information for producing the outputs, i.e. `answer`, are now available to be extracted.</desc>. It takes arguments {}.\n",
      "When providing `next_tool_args`, the value inside the field must be in JSON format\n",
      "\n",
      "2025/08/25 03:23:01 INFO dspy.teleprompt.mipro_optimizer_v2: 1: Given the fields `question` and `trajectory`, your task is to determine the answer to the question by reasoning through the trajectory of previous thoughts and actions. You will utilize the provided tools effectively to gather any necessary information. \n",
      "\n",
      "1. Start by analyzing the `question` to identify the information you need to retrieve.\n",
      "2. Use your reasoning skills to formulate a `next_thought`, which outlines your plan for gathering the required information.\n",
      "3. Choose the appropriate tool for your next action. The available tools are:\n",
      "   - `search_wikipedia`: Use this tool to search for information related to your `question`. Provide a JSON object in `next_tool_args` with a `query` field that contains your search string.\n",
      "   - `finish`: Use this when you have gathered sufficient information to produce the `answer`. This requires no additional arguments.\n",
      "\n",
      "4. After each tool call, you will receive an `observation` that should be appended to your `trajectory`. Use this information to refine your understanding and reasoning.\n",
      "5. Continue iterating through the steps until you feel confident to finish the task and extract the final `answer`.\n",
      "\n",
      "Ensure your reasoning is clear and supports the progression towards finding the answer to the original question.\n",
      "\n",
      "2025/08/25 03:23:01 INFO dspy.teleprompt.mipro_optimizer_v2: 2: You are a knowledgeable trivia agent. Given the fields `question`, produce the fields `answer`. In each episode, you will be presented with the `question` as input alongside your past trajectory of thoughts and observations. Your objective is to utilize one or more of the provided tools to gather the necessary information to formulate the `answer`. \n",
      "\n",
      "Interleave your reasoning in `next_thought`, determine the appropriate tool to use in `next_tool_name`, and specify the required arguments for that tool in `next_tool_args`. After each tool call, the resulting observation will be added to your trajectory. \n",
      "\n",
      "When composing `next_thought`, think critically about the current situation and plan your next steps. Choose the next tool from the following options:\n",
      "\n",
      "(1) search_wikipedia, which requires the argument {'query': {'type': 'string'}}.  \n",
      "(2) finish, which indicates that you have gathered all necessary information to produce the `answer` and takes no arguments. \n",
      "\n",
      "Ensure that `next_tool_args` is provided in JSON format.\n",
      "\n",
      "2025/08/25 03:23:01 INFO dspy.teleprompt.mipro_optimizer_v2: \n",
      "\n",
      "2025/08/25 03:23:01 INFO dspy.teleprompt.mipro_optimizer_v2: Proposed Instructions for Predictor 1:\n",
      "\n",
      "2025/08/25 03:23:01 INFO dspy.teleprompt.mipro_optimizer_v2: 0: Given the fields `question`, produce the fields `answer`.\n",
      "\n",
      "2025/08/25 03:23:01 INFO dspy.teleprompt.mipro_optimizer_v2: 1: Using the provided `question` and the `trajectory` of past interactions, generate a well-structured reasoning process that leads to a final `answer`. Your response should detail each step of your reasoning, including any necessary tool calls to gather information. Ensure that the final answer is clearly articulated and based on the information collected from the tool calls.\n",
      "\n",
      "2025/08/25 03:23:01 INFO dspy.teleprompt.mipro_optimizer_v2: 2: Using the provided `question` and the `trajectory` of thoughts and observations, generate a coherent reasoning process and produce the final `answer`. Ensure that the reasoning clearly articulates the steps taken to arrive at the answer based on the information gathered.\n",
      "\n",
      "2025/08/25 03:23:01 INFO dspy.teleprompt.mipro_optimizer_v2: \n",
      "\n",
      "2025/08/25 03:23:02 INFO dspy.teleprompt.mipro_optimizer_v2: ==> STEP 3: FINDING OPTIMAL PROMPT PARAMETERS <==\n",
      "2025/08/25 03:23:02 INFO dspy.teleprompt.mipro_optimizer_v2: We will evaluate the program over a series of trials with different combinations of instructions and few-shot examples to find the optimal combination using Bayesian Optimization.\n",
      "\n",
      "2025/08/25 03:23:02 INFO dspy.teleprompt.mipro_optimizer_v2: == Trial 1 / 25 - Full Evaluation of Default Program ==\n"
     ]
    },
    {
     "name": "stdout",
     "output_type": "stream",
     "text": [
      "Average Metric: 30.00 / 100 (30.0%): 100%|██████████| 100/100 [00:53<00:00,  1.86it/s]"
     ]
    },
    {
     "name": "stderr",
     "output_type": "stream",
     "text": [
      "2025/08/25 03:23:56 INFO dspy.evaluate.evaluate: Average Metric: 30 / 100 (30.0%)\n",
      "2025/08/25 03:23:56 INFO dspy.teleprompt.mipro_optimizer_v2: Default program score: 30.0\n",
      "\n",
      "/workspaces/workspace/.venv/lib/python3.11/site-packages/optuna/_experimental.py:32: ExperimentalWarning: Argument ``multivariate`` is an experimental feature. The interface can change in the future.\n",
      "  warnings.warn(\n",
      "2025/08/25 03:23:56 INFO dspy.teleprompt.mipro_optimizer_v2: == Trial 2 / 25 - Minibatch ==\n"
     ]
    },
    {
     "name": "stdout",
     "output_type": "stream",
     "text": [
      "\n",
      "Average Metric: 8.00 / 35 (22.9%): 100%|██████████| 35/35 [00:36<00:00,  1.04s/it]"
     ]
    },
    {
     "name": "stderr",
     "output_type": "stream",
     "text": [
      "2025/08/25 03:24:32 INFO dspy.evaluate.evaluate: Average Metric: 8 / 35 (22.9%)\n",
      "2025/08/25 03:24:32 INFO dspy.teleprompt.mipro_optimizer_v2: Score: 22.86 on minibatch of size 35 with parameters ['Predictor 0: Instruction 1', 'Predictor 0: Few-Shot Set 3', 'Predictor 1: Instruction 2', 'Predictor 1: Few-Shot Set 0'].\n",
      "2025/08/25 03:24:32 INFO dspy.teleprompt.mipro_optimizer_v2: Minibatch scores so far: [22.86]\n",
      "2025/08/25 03:24:32 INFO dspy.teleprompt.mipro_optimizer_v2: Full eval scores so far: [30.0]\n",
      "2025/08/25 03:24:32 INFO dspy.teleprompt.mipro_optimizer_v2: Best full score so far: 30.0\n",
      "2025/08/25 03:24:32 INFO dspy.teleprompt.mipro_optimizer_v2: =========================================\n",
      "\n",
      "\n",
      "2025/08/25 03:24:32 INFO dspy.teleprompt.mipro_optimizer_v2: == Trial 3 / 25 - Minibatch ==\n"
     ]
    },
    {
     "name": "stdout",
     "output_type": "stream",
     "text": [
      "\n",
      "Average Metric: 16.00 / 35 (45.7%): 100%|██████████| 35/35 [00:30<00:00,  1.14it/s]"
     ]
    },
    {
     "name": "stderr",
     "output_type": "stream",
     "text": [
      "2025/08/25 03:25:03 INFO dspy.evaluate.evaluate: Average Metric: 16 / 35 (45.7%)\n",
      "2025/08/25 03:25:03 INFO dspy.teleprompt.mipro_optimizer_v2: Score: 45.71 on minibatch of size 35 with parameters ['Predictor 0: Instruction 1', 'Predictor 0: Few-Shot Set 5', 'Predictor 1: Instruction 2', 'Predictor 1: Few-Shot Set 2'].\n",
      "2025/08/25 03:25:03 INFO dspy.teleprompt.mipro_optimizer_v2: Minibatch scores so far: [22.86, 45.71]\n",
      "2025/08/25 03:25:03 INFO dspy.teleprompt.mipro_optimizer_v2: Full eval scores so far: [30.0]\n",
      "2025/08/25 03:25:03 INFO dspy.teleprompt.mipro_optimizer_v2: Best full score so far: 30.0\n",
      "2025/08/25 03:25:03 INFO dspy.teleprompt.mipro_optimizer_v2: =========================================\n",
      "\n",
      "\n",
      "2025/08/25 03:25:03 INFO dspy.teleprompt.mipro_optimizer_v2: == Trial 4 / 25 - Minibatch ==\n"
     ]
    },
    {
     "name": "stdout",
     "output_type": "stream",
     "text": [
      "\n",
      "Average Metric: 8.00 / 35 (22.9%): 100%|██████████| 35/35 [00:39<00:00,  1.13s/it]"
     ]
    },
    {
     "name": "stderr",
     "output_type": "stream",
     "text": [
      "2025/08/25 03:25:43 INFO dspy.evaluate.evaluate: Average Metric: 8 / 35 (22.9%)\n",
      "2025/08/25 03:25:43 INFO dspy.teleprompt.mipro_optimizer_v2: Score: 22.86 on minibatch of size 35 with parameters ['Predictor 0: Instruction 0', 'Predictor 0: Few-Shot Set 5', 'Predictor 1: Instruction 2', 'Predictor 1: Few-Shot Set 0'].\n",
      "2025/08/25 03:25:43 INFO dspy.teleprompt.mipro_optimizer_v2: Minibatch scores so far: [22.86, 45.71, 22.86]\n",
      "2025/08/25 03:25:43 INFO dspy.teleprompt.mipro_optimizer_v2: Full eval scores so far: [30.0]\n",
      "2025/08/25 03:25:43 INFO dspy.teleprompt.mipro_optimizer_v2: Best full score so far: 30.0\n",
      "2025/08/25 03:25:43 INFO dspy.teleprompt.mipro_optimizer_v2: =========================================\n",
      "\n",
      "\n",
      "2025/08/25 03:25:43 INFO dspy.teleprompt.mipro_optimizer_v2: == Trial 5 / 25 - Minibatch ==\n"
     ]
    },
    {
     "name": "stdout",
     "output_type": "stream",
     "text": [
      "\n",
      "Average Metric: 19.00 / 35 (54.3%): 100%|██████████| 35/35 [00:21<00:00,  1.63it/s]"
     ]
    },
    {
     "name": "stderr",
     "output_type": "stream",
     "text": [
      "2025/08/25 03:26:05 INFO dspy.evaluate.evaluate: Average Metric: 19 / 35 (54.3%)\n",
      "2025/08/25 03:26:05 INFO dspy.teleprompt.mipro_optimizer_v2: Score: 54.29 on minibatch of size 35 with parameters ['Predictor 0: Instruction 2', 'Predictor 0: Few-Shot Set 5', 'Predictor 1: Instruction 1', 'Predictor 1: Few-Shot Set 4'].\n",
      "2025/08/25 03:26:05 INFO dspy.teleprompt.mipro_optimizer_v2: Minibatch scores so far: [22.86, 45.71, 22.86, 54.29]\n",
      "2025/08/25 03:26:05 INFO dspy.teleprompt.mipro_optimizer_v2: Full eval scores so far: [30.0]\n",
      "2025/08/25 03:26:05 INFO dspy.teleprompt.mipro_optimizer_v2: Best full score so far: 30.0\n",
      "2025/08/25 03:26:05 INFO dspy.teleprompt.mipro_optimizer_v2: =========================================\n",
      "\n",
      "\n",
      "2025/08/25 03:26:05 INFO dspy.teleprompt.mipro_optimizer_v2: == Trial 6 / 25 - Minibatch ==\n"
     ]
    },
    {
     "name": "stdout",
     "output_type": "stream",
     "text": [
      "\n"
     ]
    },
    {
     "name": "stderr",
     "output_type": "stream",
     "text": [
      "2025/08/25 03:26:06 ERROR dspy.utils.parallelizer: Error for Example({'question': 'Which magazine established itself as a cradle of New Journalism, St. Anthony Messenger or New York?', 'answer': 'New York'}) (input_keys={'question'}): AST constructor recursion depth mismatch (before=63, after=69). Set `provide_traceback=True` for traceback.\n"
     ]
    },
    {
     "name": "stdout",
     "output_type": "stream",
     "text": [
      "Average Metric: 15.00 / 34 (44.1%): 100%|██████████| 35/35 [00:21<00:00,  1.64it/s]"
     ]
    },
    {
     "name": "stderr",
     "output_type": "stream",
     "text": [
      "2025/08/25 03:26:27 INFO dspy.evaluate.evaluate: Average Metric: 15.0 / 35 (42.9%)\n",
      "2025/08/25 03:26:27 INFO dspy.teleprompt.mipro_optimizer_v2: Score: 42.86 on minibatch of size 35 with parameters ['Predictor 0: Instruction 2', 'Predictor 0: Few-Shot Set 5', 'Predictor 1: Instruction 2', 'Predictor 1: Few-Shot Set 2'].\n",
      "2025/08/25 03:26:27 INFO dspy.teleprompt.mipro_optimizer_v2: Minibatch scores so far: [22.86, 45.71, 22.86, 54.29, 42.86]\n",
      "2025/08/25 03:26:27 INFO dspy.teleprompt.mipro_optimizer_v2: Full eval scores so far: [30.0]\n",
      "2025/08/25 03:26:27 INFO dspy.teleprompt.mipro_optimizer_v2: Best full score so far: 30.0\n",
      "2025/08/25 03:26:27 INFO dspy.teleprompt.mipro_optimizer_v2: =========================================\n",
      "\n",
      "\n",
      "2025/08/25 03:26:27 INFO dspy.teleprompt.mipro_optimizer_v2: ===== Trial 7 / 25 - Full Evaluation =====\n",
      "2025/08/25 03:26:27 INFO dspy.teleprompt.mipro_optimizer_v2: Doing full eval on next top averaging program (Avg Score: 54.29) from minibatch trials...\n"
     ]
    },
    {
     "name": "stdout",
     "output_type": "stream",
     "text": [
      "\n",
      "Average Metric: 51.00 / 100 (51.0%): 100%|██████████| 100/100 [00:42<00:00,  2.34it/s]"
     ]
    },
    {
     "name": "stderr",
     "output_type": "stream",
     "text": [
      "2025/08/25 03:27:10 INFO dspy.evaluate.evaluate: Average Metric: 51 / 100 (51.0%)\n",
      "2025/08/25 03:27:10 INFO dspy.teleprompt.mipro_optimizer_v2: \u001b[92mNew best full eval score!\u001b[0m Score: 51.0\n",
      "2025/08/25 03:27:10 INFO dspy.teleprompt.mipro_optimizer_v2: Full eval scores so far: [30.0, 51.0]\n",
      "2025/08/25 03:27:10 INFO dspy.teleprompt.mipro_optimizer_v2: Best full score so far: 51.0\n",
      "2025/08/25 03:27:10 INFO dspy.teleprompt.mipro_optimizer_v2: =======================\n",
      "2025/08/25 03:27:10 INFO dspy.teleprompt.mipro_optimizer_v2: \n",
      "\n",
      "2025/08/25 03:27:10 INFO dspy.teleprompt.mipro_optimizer_v2: == Trial 8 / 25 - Minibatch ==\n"
     ]
    },
    {
     "name": "stdout",
     "output_type": "stream",
     "text": [
      "\n",
      "Average Metric: 9.00 / 35 (25.7%): 100%|██████████| 35/35 [00:41<00:00,  1.19s/it]"
     ]
    },
    {
     "name": "stderr",
     "output_type": "stream",
     "text": [
      "2025/08/25 03:27:52 INFO dspy.evaluate.evaluate: Average Metric: 9 / 35 (25.7%)\n",
      "2025/08/25 03:27:52 INFO dspy.teleprompt.mipro_optimizer_v2: Score: 25.71 on minibatch of size 35 with parameters ['Predictor 0: Instruction 0', 'Predictor 0: Few-Shot Set 5', 'Predictor 1: Instruction 0', 'Predictor 1: Few-Shot Set 0'].\n",
      "2025/08/25 03:27:52 INFO dspy.teleprompt.mipro_optimizer_v2: Minibatch scores so far: [22.86, 45.71, 22.86, 54.29, 42.86, 25.71]\n",
      "2025/08/25 03:27:52 INFO dspy.teleprompt.mipro_optimizer_v2: Full eval scores so far: [30.0, 51.0]\n",
      "2025/08/25 03:27:52 INFO dspy.teleprompt.mipro_optimizer_v2: Best full score so far: 51.0\n",
      "2025/08/25 03:27:52 INFO dspy.teleprompt.mipro_optimizer_v2: =========================================\n",
      "\n",
      "\n",
      "2025/08/25 03:27:52 INFO dspy.teleprompt.mipro_optimizer_v2: == Trial 9 / 25 - Minibatch ==\n"
     ]
    },
    {
     "name": "stdout",
     "output_type": "stream",
     "text": [
      "\n",
      "Average Metric: 19.00 / 35 (54.3%): 100%|██████████| 35/35 [00:25<00:00,  1.39it/s]"
     ]
    },
    {
     "name": "stderr",
     "output_type": "stream",
     "text": [
      "2025/08/25 03:28:18 INFO dspy.evaluate.evaluate: Average Metric: 19 / 35 (54.3%)\n",
      "2025/08/25 03:28:18 INFO dspy.teleprompt.mipro_optimizer_v2: Score: 54.29 on minibatch of size 35 with parameters ['Predictor 0: Instruction 1', 'Predictor 0: Few-Shot Set 2', 'Predictor 1: Instruction 2', 'Predictor 1: Few-Shot Set 1'].\n",
      "2025/08/25 03:28:18 INFO dspy.teleprompt.mipro_optimizer_v2: Minibatch scores so far: [22.86, 45.71, 22.86, 54.29, 42.86, 25.71, 54.29]\n",
      "2025/08/25 03:28:18 INFO dspy.teleprompt.mipro_optimizer_v2: Full eval scores so far: [30.0, 51.0]\n",
      "2025/08/25 03:28:18 INFO dspy.teleprompt.mipro_optimizer_v2: Best full score so far: 51.0\n",
      "2025/08/25 03:28:18 INFO dspy.teleprompt.mipro_optimizer_v2: =========================================\n",
      "\n",
      "\n",
      "2025/08/25 03:28:18 INFO dspy.teleprompt.mipro_optimizer_v2: == Trial 10 / 25 - Minibatch ==\n"
     ]
    },
    {
     "name": "stdout",
     "output_type": "stream",
     "text": [
      "\n",
      "Average Metric: 11.00 / 35 (31.4%): 100%|██████████| 35/35 [00:35<00:00,  1.03s/it]"
     ]
    },
    {
     "name": "stderr",
     "output_type": "stream",
     "text": [
      "2025/08/25 03:28:54 INFO dspy.evaluate.evaluate: Average Metric: 11 / 35 (31.4%)\n",
      "2025/08/25 03:28:54 INFO dspy.teleprompt.mipro_optimizer_v2: Score: 31.43 on minibatch of size 35 with parameters ['Predictor 0: Instruction 1', 'Predictor 0: Few-Shot Set 0', 'Predictor 1: Instruction 0', 'Predictor 1: Few-Shot Set 0'].\n",
      "2025/08/25 03:28:54 INFO dspy.teleprompt.mipro_optimizer_v2: Minibatch scores so far: [22.86, 45.71, 22.86, 54.29, 42.86, 25.71, 54.29, 31.43]\n",
      "2025/08/25 03:28:54 INFO dspy.teleprompt.mipro_optimizer_v2: Full eval scores so far: [30.0, 51.0]\n",
      "2025/08/25 03:28:54 INFO dspy.teleprompt.mipro_optimizer_v2: Best full score so far: 51.0\n",
      "2025/08/25 03:28:54 INFO dspy.teleprompt.mipro_optimizer_v2: ==========================================\n",
      "\n",
      "\n",
      "2025/08/25 03:28:55 INFO dspy.teleprompt.mipro_optimizer_v2: == Trial 11 / 25 - Minibatch ==\n"
     ]
    },
    {
     "name": "stdout",
     "output_type": "stream",
     "text": [
      "\n",
      "Average Metric: 17.00 / 35 (48.6%): 100%|██████████| 35/35 [00:20<00:00,  1.70it/s]"
     ]
    },
    {
     "name": "stderr",
     "output_type": "stream",
     "text": [
      "2025/08/25 03:29:15 INFO dspy.evaluate.evaluate: Average Metric: 17 / 35 (48.6%)\n"
     ]
    },
    {
     "name": "stdout",
     "output_type": "stream",
     "text": [
      "\n"
     ]
    },
    {
     "name": "stderr",
     "output_type": "stream",
     "text": [
      "2025/08/25 03:29:15 INFO dspy.teleprompt.mipro_optimizer_v2: Score: 48.57 on minibatch of size 35 with parameters ['Predictor 0: Instruction 2', 'Predictor 0: Few-Shot Set 1', 'Predictor 1: Instruction 1', 'Predictor 1: Few-Shot Set 4'].\n",
      "2025/08/25 03:29:15 INFO dspy.teleprompt.mipro_optimizer_v2: Minibatch scores so far: [22.86, 45.71, 22.86, 54.29, 42.86, 25.71, 54.29, 31.43, 48.57]\n",
      "2025/08/25 03:29:15 INFO dspy.teleprompt.mipro_optimizer_v2: Full eval scores so far: [30.0, 51.0]\n",
      "2025/08/25 03:29:15 INFO dspy.teleprompt.mipro_optimizer_v2: Best full score so far: 51.0\n",
      "2025/08/25 03:29:15 INFO dspy.teleprompt.mipro_optimizer_v2: ==========================================\n",
      "\n",
      "\n",
      "2025/08/25 03:29:15 INFO dspy.teleprompt.mipro_optimizer_v2: == Trial 12 / 25 - Minibatch ==\n"
     ]
    },
    {
     "name": "stdout",
     "output_type": "stream",
     "text": [
      "Average Metric: 15.00 / 35 (42.9%): 100%|██████████| 35/35 [00:54<00:00,  1.56s/it]"
     ]
    },
    {
     "name": "stderr",
     "output_type": "stream",
     "text": [
      "2025/08/25 03:30:11 INFO dspy.evaluate.evaluate: Average Metric: 15 / 35 (42.9%)\n",
      "2025/08/25 03:30:11 INFO dspy.teleprompt.mipro_optimizer_v2: Score: 42.86 on minibatch of size 35 with parameters ['Predictor 0: Instruction 1', 'Predictor 0: Few-Shot Set 4', 'Predictor 1: Instruction 2', 'Predictor 1: Few-Shot Set 1'].\n",
      "2025/08/25 03:30:11 INFO dspy.teleprompt.mipro_optimizer_v2: Minibatch scores so far: [22.86, 45.71, 22.86, 54.29, 42.86, 25.71, 54.29, 31.43, 48.57, 42.86]\n",
      "2025/08/25 03:30:11 INFO dspy.teleprompt.mipro_optimizer_v2: Full eval scores so far: [30.0, 51.0]\n",
      "2025/08/25 03:30:11 INFO dspy.teleprompt.mipro_optimizer_v2: Best full score so far: 51.0\n",
      "2025/08/25 03:30:11 INFO dspy.teleprompt.mipro_optimizer_v2: ==========================================\n",
      "\n",
      "\n",
      "2025/08/25 03:30:11 INFO dspy.teleprompt.mipro_optimizer_v2: ===== Trial 13 / 25 - Full Evaluation =====\n",
      "2025/08/25 03:30:11 INFO dspy.teleprompt.mipro_optimizer_v2: Doing full eval on next top averaging program (Avg Score: 54.29) from minibatch trials...\n"
     ]
    },
    {
     "name": "stdout",
     "output_type": "stream",
     "text": [
      "\n",
      "Average Metric: 45.00 / 100 (45.0%): 100%|██████████| 100/100 [00:44<00:00,  2.26it/s]"
     ]
    },
    {
     "name": "stderr",
     "output_type": "stream",
     "text": [
      "2025/08/25 03:30:56 INFO dspy.evaluate.evaluate: Average Metric: 45 / 100 (45.0%)\n",
      "2025/08/25 03:30:56 INFO dspy.teleprompt.mipro_optimizer_v2: Full eval scores so far: [30.0, 51.0, 45.0]\n",
      "2025/08/25 03:30:56 INFO dspy.teleprompt.mipro_optimizer_v2: Best full score so far: 51.0\n",
      "2025/08/25 03:30:56 INFO dspy.teleprompt.mipro_optimizer_v2: =======================\n",
      "2025/08/25 03:30:56 INFO dspy.teleprompt.mipro_optimizer_v2: \n",
      "\n",
      "2025/08/25 03:30:56 INFO dspy.teleprompt.mipro_optimizer_v2: == Trial 14 / 25 - Minibatch ==\n"
     ]
    },
    {
     "name": "stdout",
     "output_type": "stream",
     "text": [
      "\n",
      "Average Metric: 4.00 / 6 (66.7%):  14%|█▍        | 5/35 [00:00<00:05,  5.34it/s] "
     ]
    },
    {
     "name": "stderr",
     "output_type": "stream",
     "text": [
      "2025/08/25 03:30:56 ERROR dspy.utils.parallelizer: Error for Example({'question': 'From the age of 14 Bate lived on the family property \"Mountain View\" at these villages. It was the site for which television series?', 'answer': 'River Cottage Australia'}) (input_keys={'question'}): AST constructor recursion depth mismatch (before=72, after=68). Set `provide_traceback=True` for traceback.\n"
     ]
    },
    {
     "name": "stdout",
     "output_type": "stream",
     "text": [
      "Average Metric: 16.00 / 34 (47.1%): 100%|██████████| 35/35 [00:00<00:00, 54.09it/s]"
     ]
    },
    {
     "name": "stderr",
     "output_type": "stream",
     "text": [
      "2025/08/25 03:30:57 INFO dspy.evaluate.evaluate: Average Metric: 16.0 / 35 (45.7%)\n",
      "2025/08/25 03:30:57 INFO dspy.teleprompt.mipro_optimizer_v2: Score: 45.71 on minibatch of size 35 with parameters ['Predictor 0: Instruction 2', 'Predictor 0: Few-Shot Set 5', 'Predictor 1: Instruction 1', 'Predictor 1: Few-Shot Set 4'].\n",
      "2025/08/25 03:30:57 INFO dspy.teleprompt.mipro_optimizer_v2: Minibatch scores so far: [22.86, 45.71, 22.86, 54.29, 42.86, 25.71, 54.29, 31.43, 48.57, 42.86, 45.71]\n",
      "2025/08/25 03:30:57 INFO dspy.teleprompt.mipro_optimizer_v2: Full eval scores so far: [30.0, 51.0, 45.0]\n",
      "2025/08/25 03:30:57 INFO dspy.teleprompt.mipro_optimizer_v2: Best full score so far: 51.0\n",
      "2025/08/25 03:30:57 INFO dspy.teleprompt.mipro_optimizer_v2: ==========================================\n",
      "\n",
      "\n",
      "2025/08/25 03:30:57 INFO dspy.teleprompt.mipro_optimizer_v2: == Trial 15 / 25 - Minibatch ==\n"
     ]
    },
    {
     "name": "stdout",
     "output_type": "stream",
     "text": [
      "\n",
      "Average Metric: 23.00 / 35 (65.7%): 100%|██████████| 35/35 [00:05<00:00,  5.92it/s]"
     ]
    },
    {
     "name": "stderr",
     "output_type": "stream",
     "text": [
      "2025/08/25 03:31:03 INFO dspy.evaluate.evaluate: Average Metric: 23 / 35 (65.7%)\n",
      "2025/08/25 03:31:03 INFO dspy.teleprompt.mipro_optimizer_v2: Score: 65.71 on minibatch of size 35 with parameters ['Predictor 0: Instruction 1', 'Predictor 0: Few-Shot Set 2', 'Predictor 1: Instruction 0', 'Predictor 1: Few-Shot Set 1'].\n",
      "2025/08/25 03:31:03 INFO dspy.teleprompt.mipro_optimizer_v2: Minibatch scores so far: [22.86, 45.71, 22.86, 54.29, 42.86, 25.71, 54.29, 31.43, 48.57, 42.86, 45.71, 65.71]\n",
      "2025/08/25 03:31:03 INFO dspy.teleprompt.mipro_optimizer_v2: Full eval scores so far: [30.0, 51.0, 45.0]\n",
      "2025/08/25 03:31:03 INFO dspy.teleprompt.mipro_optimizer_v2: Best full score so far: 51.0\n",
      "2025/08/25 03:31:03 INFO dspy.teleprompt.mipro_optimizer_v2: ==========================================\n",
      "\n",
      "\n",
      "2025/08/25 03:31:03 INFO dspy.teleprompt.mipro_optimizer_v2: == Trial 16 / 25 - Minibatch ==\n"
     ]
    },
    {
     "name": "stdout",
     "output_type": "stream",
     "text": [
      "\n",
      "Average Metric: 18.00 / 35 (51.4%): 100%|██████████| 35/35 [00:06<00:00,  5.22it/s]"
     ]
    },
    {
     "name": "stderr",
     "output_type": "stream",
     "text": [
      "2025/08/25 03:31:10 INFO dspy.evaluate.evaluate: Average Metric: 18 / 35 (51.4%)\n",
      "2025/08/25 03:31:10 INFO dspy.teleprompt.mipro_optimizer_v2: Score: 51.43 on minibatch of size 35 with parameters ['Predictor 0: Instruction 1', 'Predictor 0: Few-Shot Set 2', 'Predictor 1: Instruction 0', 'Predictor 1: Few-Shot Set 4'].\n",
      "2025/08/25 03:31:10 INFO dspy.teleprompt.mipro_optimizer_v2: Minibatch scores so far: [22.86, 45.71, 22.86, 54.29, 42.86, 25.71, 54.29, 31.43, 48.57, 42.86, 45.71, 65.71, 51.43]\n",
      "2025/08/25 03:31:11 INFO dspy.teleprompt.mipro_optimizer_v2: Full eval scores so far: [30.0, 51.0, 45.0]\n",
      "2025/08/25 03:31:11 INFO dspy.teleprompt.mipro_optimizer_v2: Best full score so far: 51.0\n",
      "2025/08/25 03:31:11 INFO dspy.teleprompt.mipro_optimizer_v2: ==========================================\n",
      "\n",
      "\n",
      "2025/08/25 03:31:11 INFO dspy.teleprompt.mipro_optimizer_v2: == Trial 17 / 25 - Minibatch ==\n"
     ]
    },
    {
     "name": "stdout",
     "output_type": "stream",
     "text": [
      "\n",
      "Average Metric: 16.00 / 35 (45.7%): 100%|██████████| 35/35 [00:07<00:00,  4.83it/s]"
     ]
    },
    {
     "name": "stderr",
     "output_type": "stream",
     "text": [
      "2025/08/25 03:31:18 INFO dspy.evaluate.evaluate: Average Metric: 16 / 35 (45.7%)\n",
      "2025/08/25 03:31:18 INFO dspy.teleprompt.mipro_optimizer_v2: Score: 45.71 on minibatch of size 35 with parameters ['Predictor 0: Instruction 1', 'Predictor 0: Few-Shot Set 2', 'Predictor 1: Instruction 0', 'Predictor 1: Few-Shot Set 1'].\n",
      "2025/08/25 03:31:18 INFO dspy.teleprompt.mipro_optimizer_v2: Minibatch scores so far: [22.86, 45.71, 22.86, 54.29, 42.86, 25.71, 54.29, 31.43, 48.57, 42.86, 45.71, 65.71, 51.43, 45.71]\n",
      "2025/08/25 03:31:18 INFO dspy.teleprompt.mipro_optimizer_v2: Full eval scores so far: [30.0, 51.0, 45.0]\n",
      "2025/08/25 03:31:18 INFO dspy.teleprompt.mipro_optimizer_v2: Best full score so far: 51.0\n",
      "2025/08/25 03:31:18 INFO dspy.teleprompt.mipro_optimizer_v2: ==========================================\n",
      "\n",
      "\n",
      "2025/08/25 03:31:18 INFO dspy.teleprompt.mipro_optimizer_v2: == Trial 18 / 25 - Minibatch ==\n"
     ]
    },
    {
     "name": "stdout",
     "output_type": "stream",
     "text": [
      "\n",
      "Average Metric: 17.00 / 35 (48.6%): 100%|██████████| 35/35 [00:25<00:00,  1.38it/s]"
     ]
    },
    {
     "name": "stderr",
     "output_type": "stream",
     "text": [
      "2025/08/25 03:31:44 INFO dspy.evaluate.evaluate: Average Metric: 17 / 35 (48.6%)\n",
      "2025/08/25 03:31:44 INFO dspy.teleprompt.mipro_optimizer_v2: Score: 48.57 on minibatch of size 35 with parameters ['Predictor 0: Instruction 1', 'Predictor 0: Few-Shot Set 5', 'Predictor 1: Instruction 1', 'Predictor 1: Few-Shot Set 3'].\n",
      "2025/08/25 03:31:44 INFO dspy.teleprompt.mipro_optimizer_v2: Minibatch scores so far: [22.86, 45.71, 22.86, 54.29, 42.86, 25.71, 54.29, 31.43, 48.57, 42.86, 45.71, 65.71, 51.43, 45.71, 48.57]\n",
      "2025/08/25 03:31:44 INFO dspy.teleprompt.mipro_optimizer_v2: Full eval scores so far: [30.0, 51.0, 45.0]\n",
      "2025/08/25 03:31:44 INFO dspy.teleprompt.mipro_optimizer_v2: Best full score so far: 51.0\n",
      "2025/08/25 03:31:44 INFO dspy.teleprompt.mipro_optimizer_v2: ==========================================\n",
      "\n",
      "\n",
      "2025/08/25 03:31:44 INFO dspy.teleprompt.mipro_optimizer_v2: ===== Trial 19 / 25 - Full Evaluation =====\n",
      "2025/08/25 03:31:44 INFO dspy.teleprompt.mipro_optimizer_v2: Doing full eval on next top averaging program (Avg Score: 55.709999999999994) from minibatch trials...\n"
     ]
    },
    {
     "name": "stdout",
     "output_type": "stream",
     "text": [
      "\n",
      "Average Metric: 51.00 / 100 (51.0%): 100%|██████████| 100/100 [00:07<00:00, 13.06it/s]"
     ]
    },
    {
     "name": "stderr",
     "output_type": "stream",
     "text": [
      "2025/08/25 03:31:52 INFO dspy.evaluate.evaluate: Average Metric: 51 / 100 (51.0%)\n",
      "2025/08/25 03:31:52 INFO dspy.teleprompt.mipro_optimizer_v2: Full eval scores so far: [30.0, 51.0, 45.0, 51.0]\n",
      "2025/08/25 03:31:52 INFO dspy.teleprompt.mipro_optimizer_v2: Best full score so far: 51.0\n",
      "2025/08/25 03:31:52 INFO dspy.teleprompt.mipro_optimizer_v2: =======================\n",
      "2025/08/25 03:31:52 INFO dspy.teleprompt.mipro_optimizer_v2: \n",
      "\n",
      "2025/08/25 03:31:52 INFO dspy.teleprompt.mipro_optimizer_v2: == Trial 20 / 25 - Minibatch ==\n"
     ]
    },
    {
     "name": "stdout",
     "output_type": "stream",
     "text": [
      "\n",
      "Average Metric: 16.00 / 35 (45.7%): 100%|██████████| 35/35 [00:36<00:00,  1.03s/it]"
     ]
    },
    {
     "name": "stderr",
     "output_type": "stream",
     "text": [
      "2025/08/25 03:32:29 INFO dspy.evaluate.evaluate: Average Metric: 16 / 35 (45.7%)\n",
      "2025/08/25 03:32:29 INFO dspy.teleprompt.mipro_optimizer_v2: Score: 45.71 on minibatch of size 35 with parameters ['Predictor 0: Instruction 2', 'Predictor 0: Few-Shot Set 3', 'Predictor 1: Instruction 0', 'Predictor 1: Few-Shot Set 4'].\n",
      "2025/08/25 03:32:29 INFO dspy.teleprompt.mipro_optimizer_v2: Minibatch scores so far: [22.86, 45.71, 22.86, 54.29, 42.86, 25.71, 54.29, 31.43, 48.57, 42.86, 45.71, 65.71, 51.43, 45.71, 48.57, 45.71]\n",
      "2025/08/25 03:32:29 INFO dspy.teleprompt.mipro_optimizer_v2: Full eval scores so far: [30.0, 51.0, 45.0, 51.0]\n",
      "2025/08/25 03:32:29 INFO dspy.teleprompt.mipro_optimizer_v2: Best full score so far: 51.0\n",
      "2025/08/25 03:32:29 INFO dspy.teleprompt.mipro_optimizer_v2: ==========================================\n",
      "\n",
      "\n",
      "2025/08/25 03:32:29 INFO dspy.teleprompt.mipro_optimizer_v2: == Trial 21 / 25 - Minibatch ==\n"
     ]
    },
    {
     "name": "stdout",
     "output_type": "stream",
     "text": [
      "\n",
      "Average Metric: 18.00 / 35 (51.4%): 100%|██████████| 35/35 [00:05<00:00,  6.85it/s]"
     ]
    },
    {
     "name": "stderr",
     "output_type": "stream",
     "text": [
      "2025/08/25 03:32:35 INFO dspy.evaluate.evaluate: Average Metric: 18 / 35 (51.4%)\n",
      "2025/08/25 03:32:35 INFO dspy.teleprompt.mipro_optimizer_v2: Score: 51.43 on minibatch of size 35 with parameters ['Predictor 0: Instruction 2', 'Predictor 0: Few-Shot Set 5', 'Predictor 1: Instruction 0', 'Predictor 1: Few-Shot Set 1'].\n",
      "2025/08/25 03:32:35 INFO dspy.teleprompt.mipro_optimizer_v2: Minibatch scores so far: [22.86, 45.71, 22.86, 54.29, 42.86, 25.71, 54.29, 31.43, 48.57, 42.86, 45.71, 65.71, 51.43, 45.71, 48.57, 45.71, 51.43]\n",
      "2025/08/25 03:32:35 INFO dspy.teleprompt.mipro_optimizer_v2: Full eval scores so far: [30.0, 51.0, 45.0, 51.0]\n",
      "2025/08/25 03:32:35 INFO dspy.teleprompt.mipro_optimizer_v2: Best full score so far: 51.0\n",
      "2025/08/25 03:32:35 INFO dspy.teleprompt.mipro_optimizer_v2: ==========================================\n",
      "\n",
      "\n",
      "2025/08/25 03:32:35 INFO dspy.teleprompt.mipro_optimizer_v2: == Trial 22 / 25 - Minibatch ==\n"
     ]
    },
    {
     "name": "stdout",
     "output_type": "stream",
     "text": [
      "\n",
      "Average Metric: 18.00 / 35 (51.4%): 100%|██████████| 35/35 [00:25<00:00,  1.36it/s]"
     ]
    },
    {
     "name": "stderr",
     "output_type": "stream",
     "text": [
      "2025/08/25 03:33:01 INFO dspy.evaluate.evaluate: Average Metric: 18 / 35 (51.4%)\n",
      "2025/08/25 03:33:01 INFO dspy.teleprompt.mipro_optimizer_v2: Score: 51.43 on minibatch of size 35 with parameters ['Predictor 0: Instruction 2', 'Predictor 0: Few-Shot Set 4', 'Predictor 1: Instruction 1', 'Predictor 1: Few-Shot Set 5'].\n",
      "2025/08/25 03:33:01 INFO dspy.teleprompt.mipro_optimizer_v2: Minibatch scores so far: [22.86, 45.71, 22.86, 54.29, 42.86, 25.71, 54.29, 31.43, 48.57, 42.86, 45.71, 65.71, 51.43, 45.71, 48.57, 45.71, 51.43, 51.43]\n",
      "2025/08/25 03:33:01 INFO dspy.teleprompt.mipro_optimizer_v2: Full eval scores so far: [30.0, 51.0, 45.0, 51.0]\n",
      "2025/08/25 03:33:01 INFO dspy.teleprompt.mipro_optimizer_v2: Best full score so far: 51.0\n",
      "2025/08/25 03:33:01 INFO dspy.teleprompt.mipro_optimizer_v2: ==========================================\n",
      "\n",
      "\n",
      "2025/08/25 03:33:01 INFO dspy.teleprompt.mipro_optimizer_v2: == Trial 23 / 25 - Minibatch ==\n"
     ]
    },
    {
     "name": "stdout",
     "output_type": "stream",
     "text": [
      "\n",
      "Average Metric: 16.00 / 35 (45.7%): 100%|██████████| 35/35 [00:04<00:00,  7.23it/s]"
     ]
    },
    {
     "name": "stderr",
     "output_type": "stream",
     "text": [
      "2025/08/25 03:33:06 INFO dspy.evaluate.evaluate: Average Metric: 16 / 35 (45.7%)\n"
     ]
    },
    {
     "name": "stdout",
     "output_type": "stream",
     "text": [
      "\n"
     ]
    },
    {
     "name": "stderr",
     "output_type": "stream",
     "text": [
      "2025/08/25 03:33:06 INFO dspy.teleprompt.mipro_optimizer_v2: Score: 45.71 on minibatch of size 35 with parameters ['Predictor 0: Instruction 1', 'Predictor 0: Few-Shot Set 2', 'Predictor 1: Instruction 2', 'Predictor 1: Few-Shot Set 5'].\n",
      "2025/08/25 03:33:06 INFO dspy.teleprompt.mipro_optimizer_v2: Minibatch scores so far: [22.86, 45.71, 22.86, 54.29, 42.86, 25.71, 54.29, 31.43, 48.57, 42.86, 45.71, 65.71, 51.43, 45.71, 48.57, 45.71, 51.43, 51.43, 45.71]\n",
      "2025/08/25 03:33:06 INFO dspy.teleprompt.mipro_optimizer_v2: Full eval scores so far: [30.0, 51.0, 45.0, 51.0]\n",
      "2025/08/25 03:33:06 INFO dspy.teleprompt.mipro_optimizer_v2: Best full score so far: 51.0\n",
      "2025/08/25 03:33:06 INFO dspy.teleprompt.mipro_optimizer_v2: ==========================================\n",
      "\n",
      "\n",
      "2025/08/25 03:33:06 INFO dspy.teleprompt.mipro_optimizer_v2: == Trial 24 / 25 - Minibatch ==\n"
     ]
    },
    {
     "name": "stdout",
     "output_type": "stream",
     "text": [
      "Average Metric: 22.00 / 35 (62.9%): 100%|██████████| 35/35 [00:15<00:00,  2.28it/s]"
     ]
    },
    {
     "name": "stderr",
     "output_type": "stream",
     "text": [
      "2025/08/25 03:33:22 INFO dspy.evaluate.evaluate: Average Metric: 22 / 35 (62.9%)\n",
      "2025/08/25 03:33:22 INFO dspy.teleprompt.mipro_optimizer_v2: Score: 62.86 on minibatch of size 35 with parameters ['Predictor 0: Instruction 0', 'Predictor 0: Few-Shot Set 2', 'Predictor 1: Instruction 2', 'Predictor 1: Few-Shot Set 1'].\n",
      "2025/08/25 03:33:22 INFO dspy.teleprompt.mipro_optimizer_v2: Minibatch scores so far: [22.86, 45.71, 22.86, 54.29, 42.86, 25.71, 54.29, 31.43, 48.57, 42.86, 45.71, 65.71, 51.43, 45.71, 48.57, 45.71, 51.43, 51.43, 45.71, 62.86]\n",
      "2025/08/25 03:33:22 INFO dspy.teleprompt.mipro_optimizer_v2: Full eval scores so far: [30.0, 51.0, 45.0, 51.0]\n",
      "2025/08/25 03:33:22 INFO dspy.teleprompt.mipro_optimizer_v2: Best full score so far: 51.0\n",
      "2025/08/25 03:33:22 INFO dspy.teleprompt.mipro_optimizer_v2: ==========================================\n",
      "\n",
      "\n",
      "2025/08/25 03:33:22 INFO dspy.teleprompt.mipro_optimizer_v2: ===== Trial 25 / 25 - Full Evaluation =====\n",
      "2025/08/25 03:33:22 INFO dspy.teleprompt.mipro_optimizer_v2: Doing full eval on next top averaging program (Avg Score: 62.86) from minibatch trials...\n"
     ]
    },
    {
     "name": "stdout",
     "output_type": "stream",
     "text": [
      "\n",
      "Average Metric: 49.00 / 100 (49.0%): 100%|██████████| 100/100 [00:52<00:00,  1.89it/s]"
     ]
    },
    {
     "name": "stderr",
     "output_type": "stream",
     "text": [
      "2025/08/25 03:34:15 INFO dspy.evaluate.evaluate: Average Metric: 49 / 100 (49.0%)\n"
     ]
    },
    {
     "name": "stdout",
     "output_type": "stream",
     "text": [
      "\n"
     ]
    },
    {
     "name": "stderr",
     "output_type": "stream",
     "text": [
      "2025/08/25 03:34:16 INFO dspy.teleprompt.mipro_optimizer_v2: Full eval scores so far: [30.0, 51.0, 45.0, 51.0, 49.0]\n",
      "2025/08/25 03:34:16 INFO dspy.teleprompt.mipro_optimizer_v2: Best full score so far: 51.0\n",
      "2025/08/25 03:34:16 INFO dspy.teleprompt.mipro_optimizer_v2: =======================\n",
      "2025/08/25 03:34:16 INFO dspy.teleprompt.mipro_optimizer_v2: \n",
      "\n",
      "2025/08/25 03:34:16 INFO dspy.teleprompt.mipro_optimizer_v2: Returning best identified program with score 51.0!\n"
     ]
    }
   ],
   "source": [
    "import dspy\n",
    "from dspy.datasets import HotPotQA\n",
    "\n",
    "dspy.configure(lm=dspy.LM(\"openai/gpt-4o-mini\"))\n",
    "\n",
    "def search_wikipedia(query: str) -> list[str]:\n",
    "    results = dspy.ColBERTv2(url=\"http://20.102.90.50:2017/wiki17_abstracts\")(query, k=3)\n",
    "    return [x[\"text\"] for x in results]\n",
    "\n",
    "trainset = [x.with_inputs('question') for x in HotPotQA(train_seed=2024, train_size=500).train]\n",
    "react = dspy.ReAct(\"question -> answer\", tools=[search_wikipedia])\n",
    "\n",
    "tp = dspy.MIPROv2(metric=dspy.evaluate.answer_exact_match, auto=\"light\", num_threads=24)\n",
    "optimized_react = tp.compile(react, trainset=trainset)"
   ]
  },
  {
   "cell_type": "code",
   "execution_count": 6,
   "id": "56024617",
   "metadata": {},
   "outputs": [
    {
     "data": {
      "text/plain": [
       "react = Predict(StringSignature(question, trajectory -> next_thought, next_tool_name, next_tool_args\n",
       "    instructions=\"Given the fields `question`, produce the fields `answer`.\\n\\nYou are an Agent. In each episode, you will be given the fields `question` as input. And you can see your past trajectory so far.\\nYour goal is to use one or more of the supplied tools to collect any necessary information for producing `answer`.\\n\\nTo do this, you will interleave next_thought, next_tool_name, and next_tool_args in each turn, and also when finishing the task.\\nAfter each tool call, you receive a resulting observation, which gets appended to your trajectory.\\n\\nWhen writing next_thought, you may reason about the current situation and plan for future steps.\\nWhen selecting the next_tool_name and its next_tool_args, the tool must be one of:\\n\\n(1) search_wikipedia. It takes arguments {'query': {'type': 'string'}}.\\n(2) finish, whose description is <desc>Marks the task as complete. That is, signals that all information for producing the outputs, i.e. `answer`, are now available to be extracted.</desc>. It takes arguments {}.\\nWhen providing `next_tool_args`, the value inside the field must be in JSON format\"\n",
       "    question = Field(annotation=str required=True json_schema_extra={'__dspy_field_type': 'input', 'prefix': 'Question:', 'desc': '${question}'})\n",
       "    trajectory = Field(annotation=str required=True json_schema_extra={'__dspy_field_type': 'input', 'prefix': 'Trajectory:', 'desc': '${trajectory}'})\n",
       "    next_thought = Field(annotation=str required=True json_schema_extra={'__dspy_field_type': 'output', 'prefix': 'Next Thought:', 'desc': '${next_thought}'})\n",
       "    next_tool_name = Field(annotation=Literal['search_wikipedia', 'finish'] required=True json_schema_extra={'__dspy_field_type': 'output', 'prefix': 'Next Tool Name:', 'desc': '${next_tool_name}'})\n",
       "    next_tool_args = Field(annotation=dict[str, Any] required=True json_schema_extra={'__dspy_field_type': 'output', 'prefix': 'Next Tool Args:', 'desc': '${next_tool_args}'})\n",
       "))\n",
       "extract.predict = Predict(StringSignature(question, trajectory -> reasoning, answer\n",
       "    instructions='Given the fields `question`, produce the fields `answer`.'\n",
       "    question = Field(annotation=str required=True json_schema_extra={'__dspy_field_type': 'input', 'prefix': 'Question:', 'desc': '${question}'})\n",
       "    trajectory = Field(annotation=str required=True json_schema_extra={'__dspy_field_type': 'input', 'prefix': 'Trajectory:', 'desc': '${trajectory}'})\n",
       "    reasoning = Field(annotation=str required=True json_schema_extra={'prefix': \"Reasoning: Let's think step by step in order to\", 'desc': '${reasoning}', '__dspy_field_type': 'output'})\n",
       "    answer = Field(annotation=str required=True json_schema_extra={'__dspy_field_type': 'output', 'prefix': 'Answer:', 'desc': '${answer}'})\n",
       "))"
      ]
     },
     "execution_count": 6,
     "metadata": {},
     "output_type": "execute_result"
    }
   ],
   "source": [
    "react"
   ]
  },
  {
   "cell_type": "code",
   "execution_count": 5,
   "id": "9b01a410",
   "metadata": {},
   "outputs": [
    {
     "data": {
      "text/plain": [
       "react = Predict(StringSignature(question, trajectory -> next_thought, next_tool_name, next_tool_args\n",
       "    instructions=\"You are a knowledgeable trivia agent. Given the fields `question`, produce the fields `answer`. In each episode, you will be presented with the `question` as input alongside your past trajectory of thoughts and observations. Your objective is to utilize one or more of the provided tools to gather the necessary information to formulate the `answer`. \\n\\nInterleave your reasoning in `next_thought`, determine the appropriate tool to use in `next_tool_name`, and specify the required arguments for that tool in `next_tool_args`. After each tool call, the resulting observation will be added to your trajectory. \\n\\nWhen composing `next_thought`, think critically about the current situation and plan your next steps. Choose the next tool from the following options:\\n\\n(1) search_wikipedia, which requires the argument {'query': {'type': 'string'}}.  \\n(2) finish, which indicates that you have gathered all necessary information to produce the `answer` and takes no arguments. \\n\\nEnsure that `next_tool_args` is provided in JSON format.\"\n",
       "    question = Field(annotation=str required=True json_schema_extra={'__dspy_field_type': 'input', 'prefix': 'Question:', 'desc': '${question}'})\n",
       "    trajectory = Field(annotation=str required=True json_schema_extra={'__dspy_field_type': 'input', 'prefix': 'Trajectory:', 'desc': '${trajectory}'})\n",
       "    next_thought = Field(annotation=str required=True json_schema_extra={'__dspy_field_type': 'output', 'prefix': 'Next Thought:', 'desc': '${next_thought}'})\n",
       "    next_tool_name = Field(annotation=Literal['search_wikipedia', 'finish'] required=True json_schema_extra={'__dspy_field_type': 'output', 'prefix': 'Next Tool Name:', 'desc': '${next_tool_name}'})\n",
       "    next_tool_args = Field(annotation=dict[str, Any] required=True json_schema_extra={'__dspy_field_type': 'output', 'prefix': 'Next Tool Args:', 'desc': '${next_tool_args}'})\n",
       "))\n",
       "extract.predict = Predict(StringSignature(question, trajectory -> reasoning, answer\n",
       "    instructions='Using the provided `question` and the `trajectory` of past interactions, generate a well-structured reasoning process that leads to a final `answer`. Your response should detail each step of your reasoning, including any necessary tool calls to gather information. Ensure that the final answer is clearly articulated and based on the information collected from the tool calls.'\n",
       "    question = Field(annotation=str required=True json_schema_extra={'__dspy_field_type': 'input', 'prefix': 'Question:', 'desc': '${question}'})\n",
       "    trajectory = Field(annotation=str required=True json_schema_extra={'__dspy_field_type': 'input', 'prefix': 'Trajectory:', 'desc': '${trajectory}'})\n",
       "    reasoning = Field(annotation=str required=True json_schema_extra={'prefix': \"Reasoning: Let's think step by step in order to\", 'desc': '${reasoning}', '__dspy_field_type': 'output'})\n",
       "    answer = Field(annotation=str required=True json_schema_extra={'__dspy_field_type': 'output', 'prefix': 'Answer:', 'desc': '${answer}'})\n",
       "))"
      ]
     },
     "execution_count": 5,
     "metadata": {},
     "output_type": "execute_result"
    }
   ],
   "source": [
    "optimized_react"
   ]
  },
  {
   "cell_type": "code",
   "execution_count": 9,
   "id": "402c8c20",
   "metadata": {},
   "outputs": [],
   "source": [
    "react.save(\"../tmp/react.json\")"
   ]
  },
  {
   "cell_type": "code",
   "execution_count": null,
   "id": "d664189c",
   "metadata": {},
   "outputs": [
    {
     "ename": "",
     "evalue": "",
     "output_type": "error",
     "traceback": [
      "\u001b[1;31mThe Kernel crashed while executing code in the current cell or a previous cell. \n",
      "\u001b[1;31mPlease review the code in the cell(s) to identify a possible cause of the failure. \n",
      "\u001b[1;31mClick <a href='https://aka.ms/vscodeJupyterKernelCrash'>here</a> for more info. \n",
      "\u001b[1;31mView Jupyter <a href='command:jupyter.viewOutput'>log</a> for further details."
     ]
    }
   ],
   "source": [
    "optimized_react.save(\"../tmp/optimized_react.json\")"
   ]
  },
  {
   "cell_type": "code",
   "execution_count": null,
   "id": "8093ca7b",
   "metadata": {},
   "outputs": [],
   "source": []
  }
 ],
 "metadata": {
  "kernelspec": {
   "display_name": ".venv",
   "language": "python",
   "name": "python3"
  },
  "language_info": {
   "codemirror_mode": {
    "name": "ipython",
    "version": 3
   },
   "file_extension": ".py",
   "mimetype": "text/x-python",
   "name": "python",
   "nbconvert_exporter": "python",
   "pygments_lexer": "ipython3",
   "version": "3.11.2"
  }
 },
 "nbformat": 4,
 "nbformat_minor": 5
}
